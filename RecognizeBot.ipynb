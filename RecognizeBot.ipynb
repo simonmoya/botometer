{
 "cells": [
  {
   "cell_type": "markdown",
   "id": "8fff6ce7",
   "metadata": {},
   "source": [
    "# Ejemplo Online human Bot Interaction\n",
    "Autores:\n",
    "Eduardo Malagón, Juan Venegas, Giovanni Enrique López, Simón Moya Jiménez"
   ]
  },
  {
   "cell_type": "code",
   "execution_count": 2,
   "id": "de2f5927",
   "metadata": {},
   "outputs": [
    {
     "name": "stdout",
     "output_type": "stream",
     "text": [
      "Requirement already satisfied: botometer in c:\\programdata\\anaconda\\lib\\site-packages (1.6)\n",
      "Requirement already satisfied: requests in c:\\programdata\\anaconda\\lib\\site-packages (from botometer) (2.25.1)\n",
      "Requirement already satisfied: tweepy>=3.5.0 in c:\\programdata\\anaconda\\lib\\site-packages (from botometer) (3.10.0)\n",
      "Requirement already satisfied: requests-oauthlib>=0.7.0 in c:\\programdata\\anaconda\\lib\\site-packages (from tweepy>=3.5.0->botometer) (1.3.0)\n",
      "Requirement already satisfied: six>=1.10.0 in c:\\programdata\\anaconda\\lib\\site-packages (from tweepy>=3.5.0->botometer) (1.15.0)\n",
      "Requirement already satisfied: oauthlib>=3.0.0 in c:\\programdata\\anaconda\\lib\\site-packages (from requests-oauthlib>=0.7.0->tweepy>=3.5.0->botometer) (3.1.1)\n",
      "Requirement already satisfied: chardet<5,>=3.0.2 in c:\\programdata\\anaconda\\lib\\site-packages (from requests->botometer) (4.0.0)\n",
      "Requirement already satisfied: idna<3,>=2.5 in c:\\programdata\\anaconda\\lib\\site-packages (from requests->botometer) (2.10)\n",
      "Requirement already satisfied: certifi>=2017.4.17 in c:\\programdata\\anaconda\\lib\\site-packages (from requests->botometer) (2020.12.5)\n",
      "Requirement already satisfied: urllib3<1.27,>=1.21.1 in c:\\programdata\\anaconda\\lib\\site-packages (from requests->botometer) (1.26.4)\n",
      "Requirement already satisfied: PySocks!=1.5.7,>=1.5.6 in c:\\programdata\\anaconda\\lib\\site-packages (from requests->botometer) (1.7.1)\n"
     ]
    }
   ],
   "source": [
    "#Se procede con la instalación de la librería botometer\n",
    "!pip install botometer"
   ]
  },
  {
   "cell_type": "code",
   "execution_count": 3,
   "id": "04a39805",
   "metadata": {},
   "outputs": [],
   "source": [
    "#Se procede con la carga de las librerías necesarias para el funcionamiento de la aplicación\n",
    "import botometer\n",
    "import tweepy\n",
    "from tweepy import OAuthHandler\n",
    "import numpy as np\n",
    "import json\n",
    "from IPython.display import Image\n",
    "from IPython.display import display"
   ]
  },
  {
   "cell_type": "code",
   "execution_count": 4,
   "id": "3c846303",
   "metadata": {},
   "outputs": [],
   "source": [
    "#Se procede con la lectura del archivo apikey_twitter.json, donde se encuentran las claves gestionadas \n",
    "#con Botometer y con las clave de desarrollador provistas por Twitter\n",
    "with open(\"apikey_twitter.json\") as file:\n",
    "    apikey_twitter = json.load(file) "
   ]
  },
  {
   "cell_type": "code",
   "execution_count": 5,
   "id": "c938cd98",
   "metadata": {},
   "outputs": [],
   "source": [
    "#Se procede con la inicialización las variables que se requieren para autenticación de las librerías\n",
    "rapidapi_key = apikey_twitter['rapidapi_key']\n",
    "twitter_app_auth = {\n",
    "    'consumer_key': apikey_twitter['consumer_key'],\n",
    "    'consumer_secret': apikey_twitter['consumer_secret'],\n",
    "    'access_token': apikey_twitter['access_token'],\n",
    "    'access_token_secret': apikey_twitter['access_token_secret'],\n",
    "  }"
   ]
  },
  {
   "cell_type": "code",
   "execution_count": 6,
   "id": "4c38db72",
   "metadata": {},
   "outputs": [],
   "source": [
    "#Se procede con la autenticación de la librería Botometer\n",
    "api_botometer = botometer.Botometer(wait_on_ratelimit=True,\n",
    "                          rapidapi_key=rapidapi_key,\n",
    "                          **twitter_app_auth)"
   ]
  },
  {
   "cell_type": "code",
   "execution_count": 8,
   "id": "482c3f5b",
   "metadata": {},
   "outputs": [],
   "source": [
    "#Se procede con la autenticación de la librería tweepy\n",
    "consumer_key = apikey_twitter['consumer_key']\n",
    "consumer_secret = apikey_twitter['consumer_secret']\n",
    "access_token = apikey_twitter['access_token']\n",
    "access_secret = apikey_twitter['access_token_secret']\n",
    "\n",
    "auth = OAuthHandler(consumer_key, consumer_secret)\n",
    "auth.set_access_token(access_token, access_secret)\n",
    " \n",
    "api_tweepy = tweepy.API(auth)"
   ]
  },
  {
   "cell_type": "code",
   "execution_count": 9,
   "id": "21727f14",
   "metadata": {},
   "outputs": [],
   "source": [
    "#Se procede con la creación de una función que permite obtener la imagen de perfil, usando la librería tweepy\n",
    "def GetImage(screen_name):\n",
    "    tweets = api_tweepy.get_user(screen_name=screen_name)\n",
    "    return tweets.profile_image_url"
   ]
  },
  {
   "cell_type": "code",
   "execution_count": 10,
   "id": "aaab61ba",
   "metadata": {},
   "outputs": [],
   "source": [
    "# Se procede con la creación de una Función que realiza la Consulta de una cuenta\n",
    "def SingleAccount(account_user):\n",
    "    result = api_botometer.check_account(account_user)\n",
    "    profile_image = GetImage(account_user)\n",
    "    print(account_user)\n",
    "    display(Image(url= profile_image, width=100, height=100))\n",
    "    print (json.dumps(result, indent=4))"
   ]
  },
  {
   "cell_type": "code",
   "execution_count": 11,
   "id": "a0979733",
   "metadata": {},
   "outputs": [
    {
     "name": "stdout",
     "output_type": "stream",
     "text": [
      "@DownloaderBot\n"
     ]
    },
    {
     "data": {
      "text/html": [
       "<img src=\"http://pbs.twimg.com/profile_images/1321402944823185408/r0zHEegk_normal.jpg\" width=\"100\" height=\"100\"/>"
      ],
      "text/plain": [
       "<IPython.core.display.Image object>"
      ]
     },
     "metadata": {},
     "output_type": "display_data"
    },
    {
     "name": "stdout",
     "output_type": "stream",
     "text": [
      "{\n",
      "    \"cap\": {\n",
      "        \"english\": 0.8287549877594508,\n",
      "        \"universal\": 0.8252572897541253\n",
      "    },\n",
      "    \"display_scores\": {\n",
      "        \"english\": {\n",
      "            \"astroturf\": 1.2,\n",
      "            \"fake_follower\": 1.6,\n",
      "            \"financial\": 0.7,\n",
      "            \"other\": 4.2,\n",
      "            \"overall\": 4.2,\n",
      "            \"self_declared\": 3.9,\n",
      "            \"spammer\": 1.4\n",
      "        },\n",
      "        \"universal\": {\n",
      "            \"astroturf\": 0.6,\n",
      "            \"fake_follower\": 1.0,\n",
      "            \"financial\": 0.6,\n",
      "            \"other\": 4.1,\n",
      "            \"overall\": 4.1,\n",
      "            \"self_declared\": 3.6,\n",
      "            \"spammer\": 1.2\n",
      "        }\n",
      "    },\n",
      "    \"raw_scores\": {\n",
      "        \"english\": {\n",
      "            \"astroturf\": 0.25,\n",
      "            \"fake_follower\": 0.33,\n",
      "            \"financial\": 0.14,\n",
      "            \"other\": 0.84,\n",
      "            \"overall\": 0.84,\n",
      "            \"self_declared\": 0.78,\n",
      "            \"spammer\": 0.27\n",
      "        },\n",
      "        \"universal\": {\n",
      "            \"astroturf\": 0.11,\n",
      "            \"fake_follower\": 0.19,\n",
      "            \"financial\": 0.12,\n",
      "            \"other\": 0.82,\n",
      "            \"overall\": 0.82,\n",
      "            \"self_declared\": 0.71,\n",
      "            \"spammer\": 0.24\n",
      "        }\n",
      "    },\n",
      "    \"user\": {\n",
      "        \"majority_lang\": \"und\",\n",
      "        \"user_data\": {\n",
      "            \"id_str\": \"1010484773066887168\",\n",
      "            \"screen_name\": \"DownloaderBot\"\n",
      "        }\n",
      "    }\n",
      "}\n"
     ]
    }
   ],
   "source": [
    "SingleAccount(\"@DownloaderBot\")"
   ]
  },
  {
   "cell_type": "code",
   "execution_count": null,
   "id": "e45f98c5",
   "metadata": {},
   "outputs": [],
   "source": [
    "#Se procede con la Creación de una Función que realiza la Consulta de Múltiples Cuentas\n",
    "def MultipleAccounts(accounts_group):\n",
    "    data_content = []\n",
    "    k = len(accounts_group)\n",
    "\n",
    "    for screen_name, result in api_botometer.check_accounts_in(accounts_group):\n",
    "        data_content.append(str(screen_name))\n",
    "        data_content.append(GetImage(screen_name))\n",
    "        data_content.append(result)\n",
    "\n",
    "    NewA = np.array(data_content)\n",
    "    NewA = NewA.reshape(k ,3)\n",
    "    for i  in range (k):\n",
    "        print(NewA[i][0])\n",
    "        display(Image(url= NewA[i][1], width=100, height=100))\n",
    "        print (json.dumps(NewA[i][2], indent=4))\n",
    "        print(\"\\n\")"
   ]
  },
  {
   "cell_type": "code",
   "execution_count": null,
   "id": "d9aa2edd",
   "metadata": {},
   "outputs": [],
   "source": [
    "accounts_group = ['@DownloaderBot', '@SimonMoyaJ']\n",
    "MultipleAccounts(accounts_group)"
   ]
  },
  {
   "cell_type": "markdown",
   "id": "1a601c09",
   "metadata": {},
   "source": [
    "Meanings of the elements in the response:\n",
    "\n",
    "user: Twitter user object (from the user) plus the language inferred from majority of tweets\n",
    "raw scores: bot score in the [0,1] range, both using English (all features) and Universal (language-independent) features; in each case we have the overall score and the sub-scores for each bot class (see below for subclass names and definitions)\n",
    "display scores: same as raw scores, but in the [0,5] range\n",
    "cap: conditional probability that accounts with a score equal to or greater than this are automated; based on inferred language\n",
    "Meanings of the bot type scores:\n",
    "\n",
    "fake_follower: bots purchased to increase follower counts\n",
    "self_declared: bots from botwiki.org\n",
    "astroturf: manually labeled political bots and accounts involved in follow trains that systematically delete content\n",
    "spammer: accounts labeled as spambots from several datasets\n",
    "financial ",
    ": bots that post using cashtags\n",
    "other: miscellaneous other bots obtained from manual annotation, user feedback, etc."
   ]
  },
  {
   "cell_type": "code",
   "execution_count": null,
   "id": "67151765",
   "metadata": {},
   "outputs": [],
   "source": [
    "#Ahora Tú - Realiza el análisis de tu usuario de Tweeter y el de tu Empresa a través del código planteado "
   ]
  }
 ],
 "metadata": {
  "kernelspec": {
   "display_name": "Python 3",
   "language": "python",
   "name": "python3"
  },
  "language_info": {
   "codemirror_mode": {
    "name": "ipython",
    "version": 3
   },
   "file_extension": ".py",
   "mimetype": "text/x-python",
   "name": "python",
   "nbconvert_exporter": "python",
   "pygments_lexer": "ipython3",
   "version": "3.8.8"
  }
 },
 "nbformat": 4,
 "nbformat_minor": 5
}
